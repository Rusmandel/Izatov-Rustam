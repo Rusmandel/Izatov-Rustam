{
  "nbformat": 4,
  "nbformat_minor": 0,
  "metadata": {
    "colab": {
      "name": "Intro_to_Numpy.ipynb",
      "provenance": [],
      "authorship_tag": "ABX9TyMlYox89tBCF96nBhjjZZci",
      "include_colab_link": true
    },
    "kernelspec": {
      "name": "python3",
      "display_name": "Python 3"
    }
  },
  "cells": [
    {
      "cell_type": "markdown",
      "metadata": {
        "id": "view-in-github",
        "colab_type": "text"
      },
      "source": [
        "<a href=\"https://colab.research.google.com/github/Rusmandel/Izatov-Rustam/blob/master/Intro_to_Numpy1.ipynb\" target=\"_parent\"><img src=\"https://colab.research.google.com/assets/colab-badge.svg\" alt=\"Open In Colab\"/></a>"
      ]
    },
    {
      "cell_type": "code",
      "metadata": {
        "id": "QGJpVRI2-iIq",
        "colab_type": "code",
        "outputId": "975ec0d7-e7f5-41f2-ac90-2f7360257591",
        "colab": {
          "base_uri": "https://localhost:8080/",
          "height": 208
        }
      },
      "source": [
        "import numpy as np\n",
        "size = 11\n",
        "arr = np.zeros((size,size))\n",
        "print(arr)"
      ],
      "execution_count": 1,
      "outputs": [
        {
          "output_type": "stream",
          "text": [
            "[[0. 0. 0. 0. 0. 0. 0. 0. 0. 0. 0.]\n",
            " [0. 0. 0. 0. 0. 0. 0. 0. 0. 0. 0.]\n",
            " [0. 0. 0. 0. 0. 0. 0. 0. 0. 0. 0.]\n",
            " [0. 0. 0. 0. 0. 0. 0. 0. 0. 0. 0.]\n",
            " [0. 0. 0. 0. 0. 0. 0. 0. 0. 0. 0.]\n",
            " [0. 0. 0. 0. 0. 0. 0. 0. 0. 0. 0.]\n",
            " [0. 0. 0. 0. 0. 0. 0. 0. 0. 0. 0.]\n",
            " [0. 0. 0. 0. 0. 0. 0. 0. 0. 0. 0.]\n",
            " [0. 0. 0. 0. 0. 0. 0. 0. 0. 0. 0.]\n",
            " [0. 0. 0. 0. 0. 0. 0. 0. 0. 0. 0.]\n",
            " [0. 0. 0. 0. 0. 0. 0. 0. 0. 0. 0.]]\n"
          ],
          "name": "stdout"
        }
      ]
    },
    {
      "cell_type": "code",
      "metadata": {
        "id": "88_-xWZq_LnF",
        "colab_type": "code",
        "outputId": "1a06b7d3-bf98-4328-b9c8-4aac68252b63",
        "colab": {
          "base_uri": "https://localhost:8080/",
          "height": 204
        }
      },
      "source": [
        "for i in range(size):\n",
        "\tfor j in range(size):\n",
        "\t\tif (j==i):\n",
        "\t\t\tarr[i][j] = 1\n",
        "\t\telif (j==((size-1)-i)):\n",
        "\t\t\tarr[i][j] = 1\n",
        "print(arr)"
      ],
      "execution_count": 0,
      "outputs": [
        {
          "output_type": "stream",
          "text": [
            "[[1. 0. 0. 0. 0. 0. 0. 0. 0. 0. 1.]\n",
            " [0. 1. 0. 0. 0. 0. 0. 0. 0. 1. 0.]\n",
            " [0. 0. 1. 0. 0. 0. 0. 0. 1. 0. 0.]\n",
            " [0. 0. 0. 1. 0. 0. 0. 1. 0. 0. 0.]\n",
            " [0. 0. 0. 0. 1. 0. 1. 0. 0. 0. 0.]\n",
            " [0. 0. 0. 0. 0. 1. 0. 0. 0. 0. 0.]\n",
            " [0. 0. 0. 0. 1. 0. 1. 0. 0. 0. 0.]\n",
            " [0. 0. 0. 1. 0. 0. 0. 1. 0. 0. 0.]\n",
            " [0. 0. 1. 0. 0. 0. 0. 0. 1. 0. 0.]\n",
            " [0. 1. 0. 0. 0. 0. 0. 0. 0. 1. 0.]\n",
            " [1. 0. 0. 0. 0. 0. 0. 0. 0. 0. 1.]]\n"
          ],
          "name": "stdout"
        }
      ]
    },
    {
      "cell_type": "code",
      "metadata": {
        "id": "zJIcyOKME62k",
        "colab_type": "code",
        "outputId": "d258521e-470b-4eac-a629-8763adb0f753",
        "colab": {
          "base_uri": "https://localhost:8080/",
          "height": 139
        }
      },
      "source": [
        "import cv2\n",
        "import matplotlib.pyplot as plt\n",
        "horizontal_gradient1 = np.zeros((255,255))\n",
        "w = horizontal_gradient1.shape[1]\n",
        "h = horizontal_gradient1.shape[0]\n",
        "\n",
        "for i in range(h):\n",
        "    for j in range(w):\n",
        "        horizontal_gradient1[i][j] = i\n",
        "horizontal_gradient1"
      ],
      "execution_count": 2,
      "outputs": [
        {
          "output_type": "execute_result",
          "data": {
            "text/plain": [
              "array([[  0.,   0.,   0., ...,   0.,   0.,   0.],\n",
              "       [  1.,   1.,   1., ...,   1.,   1.,   1.],\n",
              "       [  2.,   2.,   2., ...,   2.,   2.,   2.],\n",
              "       ...,\n",
              "       [252., 252., 252., ..., 252., 252., 252.],\n",
              "       [253., 253., 253., ..., 253., 253., 253.],\n",
              "       [254., 254., 254., ..., 254., 254., 254.]])"
            ]
          },
          "metadata": {
            "tags": []
          },
          "execution_count": 2
        }
      ]
    },
    {
      "cell_type": "code",
      "metadata": {
        "id": "krhVPsumFFow",
        "colab_type": "code",
        "outputId": "44b46022-295b-4cee-cd4e-3ea3a8d41a32",
        "colab": {
          "base_uri": "https://localhost:8080/",
          "height": 323
        }
      },
      "source": [
        "cv2.imwrite('horizontal_grad1.jpg', horizontal_gradient1)\n",
        "plt.figure(figsize=(5, 5))\n",
        "plt.imshow(horizontal_gradient1, cmap='gray')\n",
        "plt.show();"
      ],
      "execution_count": 0,
      "outputs": [
        {
          "output_type": "display_data",
          "data": {
            "image/png": "[encoded data removed]",
            "text/plain": [
              "<Figure size 360x360 with 1 Axes>"
            ]
          },
          "metadata": {
            "tags": []
          }
        }
      ]
    },
    {
      "cell_type": "code",
      "metadata": {
        "id": "U06VU2WOFILV",
        "colab_type": "code",
        "outputId": "749fc20e-8924-4a33-f056-91c7f3df80ba",
        "colab": {
          "base_uri": "https://localhost:8080/",
          "height": 323
        }
      },
      "source": [
        "horizontal_gradient2 = horizontal_gradient1 = np.zeros((255,255))\n",
        "\n",
        "w = horizontal_gradient2.shape[1]\n",
        "h = horizontal_gradient2.shape[0]\n",
        "for i in range(h):\n",
        "    for j in range(w):\n",
        "        horizontal_gradient2[i][j] = h-i\n",
        "        \n",
        "cv2.imwrite('horizontal_grad2.jpg', horizontal_gradient2)\n",
        "plt.figure(figsize=(5, 5))\n",
        "plt.imshow(horizontal_gradient2, cmap='gray')\n",
        "plt.show();"
      ],
      "execution_count": 5,
      "outputs": [
        {
          "output_type": "display_data",
          "data": {
            "image/png": "[encoded data removed]",
            "text/plain": [
              "<Figure size 360x360 with 1 Axes>"
            ]
          },
          "metadata": {
            "tags": []
          }
        }
      ]
    },
    {
      "cell_type": "code",
      "metadata": {
        "id": "Cqlk-D8gFLgl",
        "colab_type": "code",
        "outputId": "53d544ea-4e26-4d71-9f3f-181e7abd4ea1",
        "colab": {
          "base_uri": "https://localhost:8080/",
          "height": 323
        }
      },
      "source": [
        "vertical_gradient1 = np.zeros((255,255))\n",
        "w = vertical_gradient1.shape[1]\n",
        "h = vertical_gradient1.shape[0]\n",
        "for i in range(h):\n",
        "    for j in range(w):\n",
        "        vertical_gradient1[i][j] = j\n",
        "cv2.imwrite('vertical_grad1.jpg', vertical_gradient1)\n",
        "plt.figure(figsize=(5, 5))\n",
        "plt.imshow(vertical_gradient1, cmap='gray')\n",
        "plt.show();"
      ],
      "execution_count": 6,
      "outputs": [
        {
          "output_type": "display_data",
          "data": {
            "image/png": "[encoded data removed]",
            "text/plain": [
              "<Figure size 360x360 with 1 Axes>"
            ]
          },
          "metadata": {
            "tags": []
          }
        }
      ]
    },
    {
      "cell_type": "code",
      "metadata": {
        "id": "h7T9LIffFYss",
        "colab_type": "code",
        "outputId": "15a3bd89-38cf-440a-bef6-5c8b022b91dc",
        "colab": {
          "base_uri": "https://localhost:8080/",
          "height": 323
        }
      },
      "source": [
        "vertical_gradient2 = np.zeros((255,255))\n",
        "\n",
        "w = vertical_gradient2.shape[1]\n",
        "h = vertical_gradient2.shape[0]\n",
        "\n",
        "for i in range(h):\n",
        "    for j in range(w):\n",
        "        vertical_gradient2[i][j] = w-j\n",
        "        \n",
        "cv2.imwrite('vertical_grad2.jpg', vertical_gradient2)\n",
        "plt.figure(figsize=(5, 5))\n",
        "plt.imshow(vertical_gradient2, cmap='gray')\n",
        "plt.show();"
      ],
      "execution_count": 7,
      "outputs": [
        {
          "output_type": "display_data",
          "data": {
            "image/png": "[encoded data removed]",
            "text/plain": [
              "<Figure size 360x360 with 1 Axes>"
            ]
          },
          "metadata": {
            "tags": []
          }
        }
      ]
    }
  ]
}
