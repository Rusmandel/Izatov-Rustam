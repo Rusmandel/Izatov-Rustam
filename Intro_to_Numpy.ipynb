{
  "nbformat": 4,
  "nbformat_minor": 0,
  "metadata": {
    "colab": {
      "name": "Intro_to_Numpy.ipynb",
      "provenance": [],
      "authorship_tag": "ABX9TyPouW1ZKSPC4oA9VcVg5HpX",
      "include_colab_link": true
    },
    "kernelspec": {
      "name": "python3",
      "display_name": "Python 3"
    }
  },
  "cells": [
    {
      "cell_type": "markdown",
      "metadata": {
        "id": "view-in-github",
        "colab_type": "text"
      },
      "source": [
        "<a href=\"https://colab.research.google.com/github/Rusmandel/Izatov-Rustam/blob/master/Intro_to_Numpy.ipynb\" target=\"_parent\"><img src=\"https://colab.research.google.com/assets/colab-badge.svg\" alt=\"Open In Colab\"/></a>"
      ]
    },
    {
      "cell_type": "code",
      "metadata": {
        "id": "QGJpVRI2-iIq",
        "colab_type": "code",
        "outputId": "939f6f5a-1c43-402d-8425-8e31802ded2d",
        "colab": {
          "base_uri": "https://localhost:8080/",
          "height": 204
        }
      },
      "source": [
        "import numpy as np\n",
        "size = 11\n",
        "arr = np.zeros((size,size))\n",
        "print(arr)"
      ],
      "execution_count": 2,
      "outputs": [
        {
          "output_type": "stream",
          "text": [
            "[[0. 0. 0. 0. 0. 0. 0. 0. 0. 0. 0.]\n",
            " [0. 0. 0. 0. 0. 0. 0. 0. 0. 0. 0.]\n",
            " [0. 0. 0. 0. 0. 0. 0. 0. 0. 0. 0.]\n",
            " [0. 0. 0. 0. 0. 0. 0. 0. 0. 0. 0.]\n",
            " [0. 0. 0. 0. 0. 0. 0. 0. 0. 0. 0.]\n",
            " [0. 0. 0. 0. 0. 0. 0. 0. 0. 0. 0.]\n",
            " [0. 0. 0. 0. 0. 0. 0. 0. 0. 0. 0.]\n",
            " [0. 0. 0. 0. 0. 0. 0. 0. 0. 0. 0.]\n",
            " [0. 0. 0. 0. 0. 0. 0. 0. 0. 0. 0.]\n",
            " [0. 0. 0. 0. 0. 0. 0. 0. 0. 0. 0.]\n",
            " [0. 0. 0. 0. 0. 0. 0. 0. 0. 0. 0.]]\n"
          ],
          "name": "stdout"
        }
      ]
    },
    {
      "cell_type": "code",
      "metadata": {
        "id": "88_-xWZq_LnF",
        "colab_type": "code",
        "outputId": "1a06b7d3-bf98-4328-b9c8-4aac68252b63",
        "colab": {
          "base_uri": "https://localhost:8080/",
          "height": 204
        }
      },
      "source": [
        "for i in range(size):\n",
        "\tfor j in range(size):\n",
        "\t\tif (j==i):\n",
        "\t\t\tarr[i][j] = 1\n",
        "\t\telif (j==((size-1)-i)):\n",
        "\t\t\tarr[i][j] = 1\n",
        "print(arr)"
      ],
      "execution_count": 0,
      "outputs": [
        {
          "output_type": "stream",
          "text": [
            "[[1. 0. 0. 0. 0. 0. 0. 0. 0. 0. 1.]\n",
            " [0. 1. 0. 0. 0. 0. 0. 0. 0. 1. 0.]\n",
            " [0. 0. 1. 0. 0. 0. 0. 0. 1. 0. 0.]\n",
            " [0. 0. 0. 1. 0. 0. 0. 1. 0. 0. 0.]\n",
            " [0. 0. 0. 0. 1. 0. 1. 0. 0. 0. 0.]\n",
            " [0. 0. 0. 0. 0. 1. 0. 0. 0. 0. 0.]\n",
            " [0. 0. 0. 0. 1. 0. 1. 0. 0. 0. 0.]\n",
            " [0. 0. 0. 1. 0. 0. 0. 1. 0. 0. 0.]\n",
            " [0. 0. 1. 0. 0. 0. 0. 0. 1. 0. 0.]\n",
            " [0. 1. 0. 0. 0. 0. 0. 0. 0. 1. 0.]\n",
            " [1. 0. 0. 0. 0. 0. 0. 0. 0. 0. 1.]]\n"
          ],
          "name": "stdout"
        }
      ]
    },
    {
      "cell_type": "code",
      "metadata": {
        "id": "zJIcyOKME62k",
        "colab_type": "code",
        "colab": {
          "base_uri": "https://localhost:8080/",
          "height": 136
        },
        "outputId": "801db8ee-0353-42bd-fb47-aee306c3d67c"
      },
      "source": [
        "import cv2\n",
        "horizontal_gradient1 = np.zeros((255,255))\n",
        "w = horizontal_gradient1.shape[1]\n",
        "h = horizontal_gradient1.shape[0]\n",
        "\n",
        "for i in range(h):\n",
        "    for j in range(w):\n",
        "        horizontal_gradient1[i][j] = i\n",
        "horizontal_gradient1"
      ],
      "execution_count": 3,
      "outputs": [
        {
          "output_type": "execute_result",
          "data": {
            "text/plain": [
              "array([[  0.,   0.,   0., ...,   0.,   0.,   0.],\n",
              "       [  1.,   1.,   1., ...,   1.,   1.,   1.],\n",
              "       [  2.,   2.,   2., ...,   2.,   2.,   2.],\n",
              "       ...,\n",
              "       [252., 252., 252., ..., 252., 252., 252.],\n",
              "       [253., 253., 253., ..., 253., 253., 253.],\n",
              "       [254., 254., 254., ..., 254., 254., 254.]])"
            ]
          },
          "metadata": {
            "tags": []
          },
          "execution_count": 3
        }
      ]
    },
    {
      "cell_type": "code",
      "metadata": {
        "id": "krhVPsumFFow",
        "colab_type": "code",
        "colab": {
          "base_uri": "https://localhost:8080/",
          "height": 34
        },
        "outputId": "749c2b34-7b1a-4b13-c669-a54e8f5bf423"
      },
      "source": [
        "cv2.imwrite('horizontal_grad1.jpg', horizontal_gradient1)"
      ],
      "execution_count": 4,
      "outputs": [
        {
          "output_type": "execute_result",
          "data": {
            "text/plain": [
              "True"
            ]
          },
          "metadata": {
            "tags": []
          },
          "execution_count": 4
        }
      ]
    },
    {
      "cell_type": "code",
      "metadata": {
        "id": "U06VU2WOFILV",
        "colab_type": "code",
        "colab": {
          "base_uri": "https://localhost:8080/",
          "height": 34
        },
        "outputId": "c342c09d-4b69-4453-8d18-81666af58385"
      },
      "source": [
        "horizontal_gradient2 = horizontal_gradient1 = np.zeros((255,255))\n",
        "\n",
        "w = horizontal_gradient2.shape[1]\n",
        "h = horizontal_gradient2.shape[0]\n",
        "for i in range(h):\n",
        "    for j in range(w):\n",
        "        horizontal_gradient2[i][j] = h-i\n",
        "        \n",
        "cv2.imwrite('horizontal_grad2.jpg', horizontal_gradient2)"
      ],
      "execution_count": 5,
      "outputs": [
        {
          "output_type": "execute_result",
          "data": {
            "text/plain": [
              "True"
            ]
          },
          "metadata": {
            "tags": []
          },
          "execution_count": 5
        }
      ]
    },
    {
      "cell_type": "code",
      "metadata": {
        "id": "Cqlk-D8gFLgl",
        "colab_type": "code",
        "colab": {
          "base_uri": "https://localhost:8080/",
          "height": 34
        },
        "outputId": "6aa07f25-4185-485e-efb4-2c66b639ef2a"
      },
      "source": [
        "vertical_gradient1 = np.zeros((255,255))\n",
        "w = vertical_gradient1.shape[1]\n",
        "h = vertical_gradient1.shape[0]\n",
        "for i in range(h):\n",
        "    for j in range(w):\n",
        "        vertical_gradient1[i][j] = j\n",
        "cv2.imwrite('vertical_grad1.jpg', vertical_gradient1)"
      ],
      "execution_count": 6,
      "outputs": [
        {
          "output_type": "execute_result",
          "data": {
            "text/plain": [
              "True"
            ]
          },
          "metadata": {
            "tags": []
          },
          "execution_count": 6
        }
      ]
    },
    {
      "cell_type": "code",
      "metadata": {
        "id": "h7T9LIffFYss",
        "colab_type": "code",
        "colab": {
          "base_uri": "https://localhost:8080/",
          "height": 34
        },
        "outputId": "c2a85cf9-55b0-48ab-ced6-c8c313ade3e1"
      },
      "source": [
        "vertical_gradient2 = np.zeros((255,255))\n",
        "\n",
        "w = vertical_gradient2.shape[1]\n",
        "h = vertical_gradient2.shape[0]\n",
        "\n",
        "for i in range(h):\n",
        "    for j in range(w):\n",
        "        vertical_gradient2[i][j] = w-j\n",
        "        \n",
        "cv2.imwrite('vertical_grad2.jpg', vertical_gradient2)"
      ],
      "execution_count": 7,
      "outputs": [
        {
          "output_type": "execute_result",
          "data": {
            "text/plain": [
              "True"
            ]
          },
          "metadata": {
            "tags": []
          },
          "execution_count": 7
        }
      ]
    }
  ]
}